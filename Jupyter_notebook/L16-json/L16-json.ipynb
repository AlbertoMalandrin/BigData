{
 "cells": [
  {
   "cell_type": "markdown",
   "metadata": {},
   "source": [
    "## JSON ##"
   ]
  },
  {
   "cell_type": "code",
   "execution_count": 2,
   "metadata": {},
   "outputs": [
    {
     "name": "stdout",
     "output_type": "stream",
     "text": [
      "{'id': '0001', 'type': 'donut', 'name': 'Cake', 'ppu': 0.55, 'batters': {'batter': [{'id': '1001', 'type': 'Regular'}, {'id': '1002', 'type': 'Chocolate'}, {'id': '1003', 'type': 'Blueberry'}, {'id': '1004', 'type': \"Devil's Food\"}]}, 'topping': [{'id': '5001', 'type': 'None'}, {'id': '5002', 'type': 'Glazed'}, {'id': '5005', 'type': 'Sugar'}, {'id': '5007', 'type': 'Powdered Sugar'}, {'id': '5006', 'type': 'Chocolate with Sprinkles'}, {'id': '5003', 'type': 'Chocolate'}, {'id': '5004', 'type': 'Maple'}]}\n"
     ]
    }
   ],
   "source": [
    "import json\n",
    "with open('object-sample.json') as f:\n",
    "    doc = json.load(f)\n",
    "\n",
    "print(doc)"
   ]
  },
  {
   "cell_type": "markdown",
   "metadata": {},
   "source": [
    "Il file è caricato e ogni oggetto JSON diventa un dizionario.\n",
    "\n",
    "Gli array di obj diventano liste."
   ]
  },
  {
   "cell_type": "code",
   "execution_count": 3,
   "metadata": {},
   "outputs": [
    {
     "name": "stdout",
     "output_type": "stream",
     "text": [
      "id: 0001\n",
      "name: Cake\n"
     ]
    }
   ],
   "source": [
    "print(\"id:\", doc[\"id\"])\n",
    "print(\"name:\", doc[\"name\"])"
   ]
  },
  {
   "cell_type": "code",
   "execution_count": 4,
   "metadata": {},
   "outputs": [
    {
     "name": "stdout",
     "output_type": "stream",
     "text": [
      "1001\n",
      "1002\n",
      "1003\n",
      "1004\n"
     ]
    }
   ],
   "source": [
    "lista = doc[\"batters\"][\"batter\"]\n",
    "for el in lista:\n",
    "    print(el[\"id\"])\n"
   ]
  },
  {
   "cell_type": "markdown",
   "metadata": {},
   "source": [
    "Creo un doc e lo salvo come file "
   ]
  },
  {
   "cell_type": "code",
   "execution_count": 19,
   "metadata": {},
   "outputs": [],
   "source": [
    "doc = {\"nome\":\"Mario Rossi\", \"materie\":[{\"mat\":\"java\"},{\"mat\":\"math\"}]}\n",
    "with open('mydoc.json', 'w') as f:\n",
    "    docj = json.dump(doc, f)"
   ]
  },
  {
   "cell_type": "code",
   "execution_count": 23,
   "metadata": {},
   "outputs": [
    {
     "name": "stdout",
     "output_type": "stream",
     "text": [
      "{'nome': 'Mario Rossi', 'materie': [{'mat': 'java'}, {'mat': 'math'}], 'indirizzo': 'Via Pasubio'}\n"
     ]
    }
   ],
   "source": [
    "doc[\"indirizzo\"]=\"Via Pasubio\"\n",
    "print(doc)"
   ]
  },
  {
   "cell_type": "code",
   "execution_count": 22,
   "metadata": {},
   "outputs": [
    {
     "name": "stdout",
     "output_type": "stream",
     "text": [
      "{'nome': 'Mario Rossi', 'materie': [{'mat': 'java'}, {'mat': 'math'}], 'indirizzo': 'Via Pasubio'}\n"
     ]
    }
   ],
   "source": [
    "with open('mydoc.json', 'w') as f:\n",
    "    docj=json.dump(doc, f)\n",
    "    print(doc)"
   ]
  },
  {
   "cell_type": "code",
   "execution_count": 15,
   "metadata": {},
   "outputs": [
    {
     "name": "stdout",
     "output_type": "stream",
     "text": [
      "{'nome': 'Mario Rossi', 'materie': [{'mat': 'java'}, {'mat': 'math'}], 'indirizzo': 'Via Pasubio'}\n"
     ]
    }
   ],
   "source": [
    "with open('mydoc.json') as f:\n",
    "    docj = json.load(f)\n",
    "\n",
    "print(docj)"
   ]
  }
 ],
 "metadata": {
  "kernelspec": {
   "display_name": "Python 3",
   "language": "python",
   "name": "python3"
  },
  "language_info": {
   "codemirror_mode": {
    "name": "ipython",
    "version": 3
   },
   "file_extension": ".py",
   "mimetype": "text/x-python",
   "name": "python",
   "nbconvert_exporter": "python",
   "pygments_lexer": "ipython3",
   "version": "3.12.1"
  }
 },
 "nbformat": 4,
 "nbformat_minor": 2
}
