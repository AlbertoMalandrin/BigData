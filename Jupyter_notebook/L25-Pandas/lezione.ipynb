{
 "cells": [
  {
   "cell_type": "markdown",
   "metadata": {},
   "source": [
    "## PANDAS"
   ]
  },
  {
   "cell_type": "code",
   "execution_count": 6,
   "metadata": {},
   "outputs": [],
   "source": [
    "import pandas as pd"
   ]
  },
  {
   "cell_type": "markdown",
   "metadata": {},
   "source": [
    "## series"
   ]
  },
  {
   "cell_type": "code",
   "execution_count": 7,
   "metadata": {},
   "outputs": [
    {
     "name": "stdout",
     "output_type": "stream",
     "text": [
      "0    10\n",
      "1    20\n",
      "2    30\n",
      "3    44\n",
      "4    55\n",
      "5    66\n",
      "6    77\n",
      "7    88\n",
      "dtype: int64\n"
     ]
    }
   ],
   "source": [
    "s = pd.Series([10,20,30,44,55,66,77,88])\n",
    "print(s)"
   ]
  },
  {
   "cell_type": "markdown",
   "metadata": {},
   "source": [
    "## DataFrame"
   ]
  },
  {
   "cell_type": "code",
   "execution_count": 8,
   "metadata": {},
   "outputs": [
    {
     "name": "stdout",
     "output_type": "stream",
     "text": [
      "          0         1         2         3\n",
      "0  0.431472  1.572381 -1.442090  0.632643\n",
      "1 -0.654051 -0.409598 -0.842799 -0.005493\n",
      "2  0.055775 -0.610241 -0.806299  0.635996\n",
      "3  1.170485  0.441028 -0.254329  0.471799\n",
      "4  0.601197 -1.573870 -1.224297 -0.457920\n",
      "5 -0.035905  0.487065  0.285046  0.913916\n"
     ]
    }
   ],
   "source": [
    "import numpy as np\n",
    "\n",
    "df = pd.DataFrame(np.random.randn(6,4))\n",
    "print(df)"
   ]
  },
  {
   "cell_type": "code",
   "execution_count": 9,
   "metadata": {},
   "outputs": [
    {
     "name": "stdout",
     "output_type": "stream",
     "text": [
      "         v1        v2        v3        v4\n",
      "0 -2.005306  0.265750  0.160914  1.149672\n",
      "1  1.271177 -1.404007 -0.172594  0.254828\n",
      "2  1.181267 -0.370550 -0.654942  0.617585\n",
      "3 -1.146750 -1.039171 -0.381478  0.146239\n",
      "4  1.769504 -0.606837 -0.551169  0.246108\n",
      "5  0.093145  0.276103  0.261415  0.035215\n"
     ]
    }
   ],
   "source": [
    "\n",
    "df = pd.DataFrame(np.random.randn(6,4), columns=['v1', 'v2', 'v3', 'v4'])\n",
    "print(df)"
   ]
  },
  {
   "cell_type": "code",
   "execution_count": 10,
   "metadata": {},
   "outputs": [
    {
     "name": "stdout",
     "output_type": "stream",
     "text": [
      "          A         B         C         D\n",
      "0 -0.962950 -0.067090  0.497274 -0.505595\n",
      "1 -0.189292 -0.161798 -0.672521 -0.557500\n",
      "2  0.062848 -0.852293  0.124105  0.462889\n",
      "3  0.160313 -0.214557 -0.130580 -1.084690\n",
      "4 -0.282611 -0.113890 -1.857077  0.502669\n",
      "5 -0.078239  0.065202 -0.547435  0.676294\n"
     ]
    }
   ],
   "source": [
    "df = pd.DataFrame(np.random.randn(6,4), columns=list(\"ABCD\"))\n",
    "print(df)"
   ]
  },
  {
   "cell_type": "code",
   "execution_count": 11,
   "metadata": {},
   "outputs": [
    {
     "name": "stdout",
     "output_type": "stream",
     "text": [
      "                   A         B         C         D\n",
      "2024-09-01 -0.888761  0.939501  0.778767  0.881040\n",
      "2024-09-02  1.589005  0.100156  0.275226  1.209722\n",
      "2024-09-03 -1.267806 -0.590147  1.505812 -1.198444\n",
      "2024-09-04 -0.251691  0.173852 -0.685653 -1.474964\n",
      "2024-09-05 -0.285337  1.004456 -1.403443  1.567565\n",
      "2024-09-06 -0.579119 -0.494423  0.761585  1.598469\n"
     ]
    }
   ],
   "source": [
    "dates = pd.date_range(\"20240901\", periods=6)\n",
    "df = pd.DataFrame(np.random.randn(6,4), columns=list(\"ABCD\"), index=dates)\n",
    "print(df)"
   ]
  },
  {
   "cell_type": "code",
   "execution_count": 12,
   "metadata": {},
   "outputs": [
    {
     "name": "stdout",
     "output_type": "stream",
     "text": [
      "     A          B        C     D    E  F\n",
      "0  1.0 2024-09-01     mele  test  1.0  3\n",
      "1  1.0 2024-09-01     pere  test  1.0  3\n",
      "2  1.0 2024-09-01     kiwi  test  1.0  3\n",
      "3  1.0 2024-09-01  fragole  test  1.0  3\n"
     ]
    }
   ],
   "source": [
    "tab2 = pd.DataFrame(\n",
    "    {\n",
    "        \"A\": 1.0,\n",
    "        \"B\": pd.Timestamp(\"20240901\"),\n",
    "        \"C\": pd.Categorical([\"mele\", \"pere\", \"kiwi\", \"fragole\"]),\n",
    "        \"D\":\"test\",\n",
    "        \"E\": pd.Series(1, index=list(range(4)), dtype=\"float32\"),\n",
    "        \"F\": np.array([3]*4, dtype=\"int32\")\n",
    "    }\n",
    ")\n",
    "print(tab2)"
   ]
  },
  {
   "cell_type": "markdown",
   "metadata": {},
   "source": [
    "## leggo csv"
   ]
  },
  {
   "cell_type": "code",
   "execution_count": 13,
   "metadata": {},
   "outputs": [
    {
     "name": "stdout",
     "output_type": "stream",
     "text": [
      "        nome    cognome  peso  altezza data_nascita sesso\n",
      "0      Marco      Rossi  75.5      178   1990-01-15     M\n",
      "1       Anna      Verdi  62.0      165   1995-03-20     F\n",
      "2       Luca    Bianchi  80.0      182   1988-11-05     M\n",
      "3      Sofia       Neri  58.0      160   1997-07-12     F\n",
      "4     Davide     Gialli  72.0      175   1992-04-25     M\n",
      "5       Sara       Rosa  60.0      163   1998-09-08     F\n",
      "6     Andrea    Azzurri  78.0      180   1991-06-10     M\n",
      "7     Chiara      Viola  55.0      158   1999-12-22     F\n",
      "8     Matteo    Marroni  85.0      185   1987-02-18     M\n",
      "9  Valentina  Arancioni  63.0      167   1994-05-15     F\n"
     ]
    }
   ],
   "source": [
    "tab2 = pd.read_csv(\"persone.csv\", delimiter=',')\n",
    "print(tab2)"
   ]
  },
  {
   "cell_type": "code",
   "execution_count": 14,
   "metadata": {},
   "outputs": [
    {
     "name": "stdout",
     "output_type": "stream",
     "text": [
      "nome             object\n",
      "cognome          object\n",
      "peso            float64\n",
      "altezza           int64\n",
      "data_nascita     object\n",
      "sesso            object\n",
      "dtype: object\n"
     ]
    }
   ],
   "source": [
    "print(tab2.dtypes)"
   ]
  },
  {
   "cell_type": "code",
   "execution_count": 15,
   "metadata": {},
   "outputs": [
    {
     "name": "stdout",
     "output_type": "stream",
     "text": [
      "nome                    object\n",
      "cognome                 object\n",
      "peso                   float64\n",
      "altezza                  int64\n",
      "data_nascita    datetime64[ns]\n",
      "sesso                   object\n",
      "dtype: object\n",
      "        nome    cognome  peso  altezza data_nascita sesso\n",
      "0      Marco      Rossi  75.5      178   1990-01-15     M\n",
      "1       Anna      Verdi  62.0      165   1995-03-20     F\n",
      "2       Luca    Bianchi  80.0      182   1988-11-05     M\n",
      "3      Sofia       Neri  58.0      160   1997-07-12     F\n",
      "4     Davide     Gialli  72.0      175   1992-04-25     M\n",
      "5       Sara       Rosa  60.0      163   1998-09-08     F\n",
      "6     Andrea    Azzurri  78.0      180   1991-06-10     M\n",
      "7     Chiara      Viola  55.0      158   1999-12-22     F\n",
      "8     Matteo    Marroni  85.0      185   1987-02-18     M\n",
      "9  Valentina  Arancioni  63.0      167   1994-05-15     F\n"
     ]
    }
   ],
   "source": [
    "tab2['data_nascita'] = pd.to_datetime(tab2['data_nascita'])\n",
    "print(tab2.dtypes)\n",
    "print(tab2)"
   ]
  },
  {
   "cell_type": "code",
   "execution_count": 16,
   "metadata": {},
   "outputs": [
    {
     "data": {
      "text/plain": [
       "0        Marco\n",
       "1         Anna\n",
       "2         Luca\n",
       "3        Sofia\n",
       "4       Davide\n",
       "5         Sara\n",
       "6       Andrea\n",
       "7       Chiara\n",
       "8       Matteo\n",
       "9    Valentina\n",
       "Name: nome, dtype: object"
      ]
     },
     "execution_count": 16,
     "metadata": {},
     "output_type": "execute_result"
    }
   ],
   "source": [
    "tab2['nome']"
   ]
  },
  {
   "cell_type": "code",
   "execution_count": 17,
   "metadata": {},
   "outputs": [
    {
     "name": "stdout",
     "output_type": "stream",
     "text": [
      "        nome    cognome  peso  altezza data_nascita sesso   genere\n",
      "0      Marco      Rossi  75.5      178   1990-01-15     M  maschio\n",
      "1       Anna      Verdi  62.0      165   1995-03-20     F  femmina\n",
      "2       Luca    Bianchi  80.0      182   1988-11-05     M  maschio\n",
      "3      Sofia       Neri  58.0      160   1997-07-12     F  femmina\n",
      "4     Davide     Gialli  72.0      175   1992-04-25     M  maschio\n",
      "5       Sara       Rosa  60.0      163   1998-09-08     F  femmina\n",
      "6     Andrea    Azzurri  78.0      180   1991-06-10     M  maschio\n",
      "7     Chiara      Viola  55.0      158   1999-12-22     F  femmina\n",
      "8     Matteo    Marroni  85.0      185   1987-02-18     M  maschio\n",
      "9  Valentina  Arancioni  63.0      167   1994-05-15     F  femmina\n"
     ]
    }
   ],
   "source": [
    "tab2['genere'] = tab2[\"sesso\"].apply(lambda x: \"maschio\" if x=='M' else 'femmina' )\n",
    "print(tab2)"
   ]
  },
  {
   "cell_type": "code",
   "execution_count": 18,
   "metadata": {},
   "outputs": [
    {
     "name": "stdout",
     "output_type": "stream",
     "text": [
      "     cognome       nome\n",
      "0      Rossi      Marco\n",
      "1      Verdi       Anna\n",
      "2    Bianchi       Luca\n",
      "3       Neri      Sofia\n",
      "4     Gialli     Davide\n",
      "5       Rosa       Sara\n",
      "6    Azzurri     Andrea\n",
      "7      Viola     Chiara\n",
      "8    Marroni     Matteo\n",
      "9  Arancioni  Valentina\n"
     ]
    }
   ],
   "source": [
    "tab3 = tab2[['cognome', 'nome']]\n",
    "print(tab3)"
   ]
  },
  {
   "cell_type": "code",
   "execution_count": 19,
   "metadata": {},
   "outputs": [
    {
     "name": "stdout",
     "output_type": "stream",
     "text": [
      "     cognome       nome\n",
      "9  Arancioni  Valentina\n",
      "6    Azzurri     Andrea\n",
      "2    Bianchi       Luca\n",
      "4     Gialli     Davide\n",
      "8    Marroni     Matteo\n",
      "3       Neri      Sofia\n",
      "5       Rosa       Sara\n",
      "0      Rossi      Marco\n",
      "1      Verdi       Anna\n",
      "7      Viola     Chiara\n"
     ]
    }
   ],
   "source": [
    "tab4 = tab3.sort_values(by='cognome')\n",
    "print(tab4)"
   ]
  }
 ],
 "metadata": {
  "kernelspec": {
   "display_name": "Python 3",
   "language": "python",
   "name": "python3"
  },
  "language_info": {
   "codemirror_mode": {
    "name": "ipython",
    "version": 3
   },
   "file_extension": ".py",
   "mimetype": "text/x-python",
   "name": "python",
   "nbconvert_exporter": "python",
   "pygments_lexer": "ipython3",
   "version": "3.12.1"
  }
 },
 "nbformat": 4,
 "nbformat_minor": 2
}
