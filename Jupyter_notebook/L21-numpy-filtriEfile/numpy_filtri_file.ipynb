{
 "cells": [
  {
   "cell_type": "markdown",
   "metadata": {},
   "source": [
    "## filtri e file\n",
    "\n",
    "genero array casuale e poi lo filtro"
   ]
  },
  {
   "cell_type": "code",
   "execution_count": 1,
   "metadata": {},
   "outputs": [
    {
     "name": "stdout",
     "output_type": "stream",
     "text": [
      "[38 13 38 47 85 83 71 17 24 67]\n",
      "[3 8 6 1 2 0 4 9 7 5]\n"
     ]
    }
   ],
   "source": [
    "import numpy as np\n",
    "n = np.random.randint(0,100, 10)\n",
    "print(n)\n",
    "\n",
    "#alternativa con shuffle\n",
    "from random import shuffle\n",
    "n2 = np.arange(0,10)\n",
    "np.random.shuffle(n2)\n",
    "print(n2)"
   ]
  },
  {
   "cell_type": "markdown",
   "metadata": {},
   "source": [
    "filtri"
   ]
  },
  {
   "cell_type": "code",
   "execution_count": 2,
   "metadata": {},
   "outputs": [
    {
     "name": "stdout",
     "output_type": "stream",
     "text": [
      "[38 13 38 47 17 24]\n"
     ]
    }
   ],
   "source": [
    "nf = n[n < 50]\n",
    "print(nf)"
   ]
  },
  {
   "cell_type": "code",
   "execution_count": 3,
   "metadata": {},
   "outputs": [
    {
     "name": "stdout",
     "output_type": "stream",
     "text": [
      "[]\n",
      "[38 13 38 47 85 83 71 17 24 67]\n",
      "[85 83]\n"
     ]
    }
   ],
   "source": [
    "nf = n[n == 50]\n",
    "print(nf)\n",
    "\n",
    "nf = n[n != 50]\n",
    "print(nf)\n",
    "\n",
    "nf = n[n >= 75]\n",
    "print(nf)"
   ]
  },
  {
   "cell_type": "markdown",
   "metadata": {},
   "source": [
    "posso selezionare anche i pari!"
   ]
  },
  {
   "cell_type": "code",
   "execution_count": 4,
   "metadata": {},
   "outputs": [
    {
     "name": "stdout",
     "output_type": "stream",
     "text": [
      "[38 38 24]\n"
     ]
    }
   ],
   "source": [
    "nf = n[n%2 == 0]\n",
    "print(nf)"
   ]
  },
  {
   "cell_type": "markdown",
   "metadata": {},
   "source": [
    "posso comporre filtri con operatori and e or"
   ]
  },
  {
   "cell_type": "code",
   "execution_count": 5,
   "metadata": {},
   "outputs": [
    {
     "name": "stdout",
     "output_type": "stream",
     "text": [
      "[38 38 47 71 67]\n",
      "[13 85 83 17 24]\n"
     ]
    }
   ],
   "source": [
    "nf = n[(n > 25) & (n < 75) ]\n",
    "print(nf)\n",
    "\n",
    "nf = n[(n < 25) | (n > 75) ]\n",
    "print(nf)\n"
   ]
  },
  {
   "cell_type": "code",
   "execution_count": 6,
   "metadata": {},
   "outputs": [
    {
     "name": "stdout",
     "output_type": "stream",
     "text": [
      "['P' 'D' 'P' 'D' 'D' 'D' 'D' 'D' 'P' 'D']\n"
     ]
    }
   ],
   "source": [
    "nn = np.where((n%2 == 0), \"P\", \"D\")\n",
    "print(nn)"
   ]
  },
  {
   "cell_type": "markdown",
   "metadata": {},
   "source": [
    "Se non passo i valori da sostituire ottengo una lista con le posizioni dei valori."
   ]
  },
  {
   "cell_type": "code",
   "execution_count": 7,
   "metadata": {},
   "outputs": [
    {
     "name": "stdout",
     "output_type": "stream",
     "text": [
      "(array([0, 2, 8], dtype=int64),)\n"
     ]
    }
   ],
   "source": [
    "nn = np.where((n%2 == 0))\n",
    "print(nn)"
   ]
  },
  {
   "cell_type": "markdown",
   "metadata": {},
   "source": [
    "## Arrotondamenti\n"
   ]
  },
  {
   "cell_type": "code",
   "execution_count": 8,
   "metadata": {},
   "outputs": [
    {
     "name": "stdout",
     "output_type": "stream",
     "text": [
      "[8.84683897 2.79425574 1.98615207 2.80316176 8.33167026 0.92186404\n",
      " 4.55401512 0.36785151 9.86048913 6.4889662 ]\n"
     ]
    }
   ],
   "source": [
    "v = np.random.random(10)\n",
    "v *= 10.0\n",
    "print(v)"
   ]
  },
  {
   "cell_type": "code",
   "execution_count": 9,
   "metadata": {},
   "outputs": [
    {
     "data": {
      "text/plain": [
       "array([8.85, 2.79, 1.99, 2.8 , 8.33, 0.92, 4.55, 0.37, 9.86, 6.49])"
      ]
     },
     "execution_count": 9,
     "metadata": {},
     "output_type": "execute_result"
    }
   ],
   "source": [
    "np.around(v, 2)"
   ]
  },
  {
   "cell_type": "code",
   "execution_count": 10,
   "metadata": {},
   "outputs": [
    {
     "data": {
      "text/plain": [
       "array([ 9.,  3.,  2.,  3.,  9.,  1.,  5.,  1., 10.,  7.])"
      ]
     },
     "execution_count": 10,
     "metadata": {},
     "output_type": "execute_result"
    }
   ],
   "source": [
    "np.ceil(v)"
   ]
  },
  {
   "cell_type": "code",
   "execution_count": 11,
   "metadata": {},
   "outputs": [
    {
     "data": {
      "text/plain": [
       "array([8., 2., 1., 2., 8., 0., 4., 0., 9., 6.])"
      ]
     },
     "execution_count": 11,
     "metadata": {},
     "output_type": "execute_result"
    }
   ],
   "source": [
    "np.floor(v)"
   ]
  }
 ],
 "metadata": {
  "kernelspec": {
   "display_name": "Python 3",
   "language": "python",
   "name": "python3"
  },
  "language_info": {
   "codemirror_mode": {
    "name": "ipython",
    "version": 3
   },
   "file_extension": ".py",
   "mimetype": "text/x-python",
   "name": "python",
   "nbconvert_exporter": "python",
   "pygments_lexer": "ipython3",
   "version": "3.12.1"
  }
 },
 "nbformat": 4,
 "nbformat_minor": 2
}
