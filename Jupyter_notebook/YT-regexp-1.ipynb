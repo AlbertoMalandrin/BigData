{
 "cells": [
  {
   "cell_type": "markdown",
   "metadata": {},
   "source": [
    "# regexp"
   ]
  },
  {
   "cell_type": "code",
   "execution_count": 15,
   "metadata": {},
   "outputs": [
    {
     "name": "stdout",
     "output_type": "stream",
     "text": [
      "ok\n"
     ]
    }
   ],
   "source": [
    "print(\"ok\")"
   ]
  },
  {
   "cell_type": "code",
   "execution_count": 16,
   "metadata": {},
   "outputs": [
    {
     "name": "stdout",
     "output_type": "stream",
     "text": [
      "trovato\n"
     ]
    }
   ],
   "source": [
    "if 'abc' in 'foo_bar_abc':\n",
    "    print('trovato')"
   ]
  },
  {
   "cell_type": "code",
   "execution_count": 17,
   "metadata": {},
   "outputs": [
    {
     "data": {
      "text/plain": [
       "False"
      ]
     },
     "execution_count": 17,
     "metadata": {},
     "output_type": "execute_result"
    }
   ],
   "source": [
    "'abc'== 'foo_bar_abc'"
   ]
  },
  {
   "cell_type": "code",
   "execution_count": 18,
   "metadata": {},
   "outputs": [
    {
     "name": "stdout",
     "output_type": "stream",
     "text": [
      "None\n"
     ]
    }
   ],
   "source": [
    "import re\n",
    "p=re.compile('abc')\n",
    "ans=p.match('fooabcbar')\n",
    "print(ans)"
   ]
  },
  {
   "cell_type": "code",
   "execution_count": 19,
   "metadata": {},
   "outputs": [
    {
     "name": "stdout",
     "output_type": "stream",
     "text": [
      "<re.Match object; span=(0, 3), match='abc'>\n"
     ]
    }
   ],
   "source": [
    "\n",
    "ans2=p.match('abcbar')\n",
    "print(ans2)"
   ]
  },
  {
   "cell_type": "code",
   "execution_count": 20,
   "metadata": {},
   "outputs": [
    {
     "data": {
      "text/plain": [
       "<re.Match object; span=(0, 3), match='Foo'>"
      ]
     },
     "execution_count": 20,
     "metadata": {},
     "output_type": "execute_result"
    }
   ],
   "source": [
    "re.search('foo', 'Foobar', re.IGNORECASE)"
   ]
  },
  {
   "cell_type": "code",
   "execution_count": 22,
   "metadata": {},
   "outputs": [],
   "source": [
    "re.search('foo', 'hellow', re.IGNORECASE)"
   ]
  },
  {
   "cell_type": "code",
   "execution_count": 23,
   "metadata": {},
   "outputs": [
    {
     "name": "stdout",
     "output_type": "stream",
     "text": [
      "trovato\n"
     ]
    }
   ],
   "source": [
    "if re.search('foo', 'foobar'):\n",
    "    print(\"trovato\")"
   ]
  },
  {
   "cell_type": "code",
   "execution_count": 28,
   "metadata": {},
   "outputs": [
    {
     "name": "stdout",
     "output_type": "stream",
     "text": [
      "<re.Match object; span=(3, 6), match='123'>\n",
      "None\n",
      "<re.Match object; span=(0, 3), match='567'>\n"
     ]
    }
   ],
   "source": [
    "pat='[0-9][0-9][0-9]' # stiamo cercando esattamente 3 numeri attaccati\n",
    "print(re.search(pat, 'foo123bar'))\n",
    "print(re.search(pat, 'foo13bar'))\n",
    "print(re.search(pat, '567bar'))"
   ]
  },
  {
   "cell_type": "code",
   "execution_count": 29,
   "metadata": {},
   "outputs": [
    {
     "name": "stdout",
     "output_type": "stream",
     "text": [
      "<re.Match object; span=(3, 6), match='123'>\n",
      "None\n",
      "None\n"
     ]
    }
   ],
   "source": [
    "pat='1.3' # stiamo cercando una sequenza con 1, poi qualasiasi carattere,poi 3\n",
    "print(re.search(pat, 'foo123bar'))\n",
    "print(re.search(pat, 'foo13bar'))\n",
    "print(re.search(pat, '567bar'))"
   ]
  },
  {
   "cell_type": "code",
   "execution_count": 31,
   "metadata": {},
   "outputs": [
    {
     "name": "stdout",
     "output_type": "stream",
     "text": [
      "<re.Match object; span=(3, 6), match='bar'>\n",
      "<re.Match object; span=(3, 6), match='baz'>\n",
      "<re.Match object; span=(3, 6), match='bas'>\n",
      "None\n"
     ]
    }
   ],
   "source": [
    "pat='ba[rzs]' # stiamo cercando una sequenza con 'ba' e poi una fra r-z-s\n",
    "print(re.search(pat, 'foobar'))\n",
    "print(re.search(pat, 'foobaz'))\n",
    "print(re.search(pat, 'foobas'))\n",
    "print(re.search(pat, 'foobax'))"
   ]
  },
  {
   "cell_type": "code",
   "execution_count": 32,
   "metadata": {},
   "outputs": [
    {
     "name": "stdout",
     "output_type": "stream",
     "text": [
      "<re.Match object; span=(3, 4), match='A'>\n"
     ]
    }
   ],
   "source": [
    "pat='[0-9a-fA-F]' #ricercare negli esadecimali\n",
    "print(re.search(pat, '___A0___'))\n"
   ]
  },
  {
   "cell_type": "code",
   "execution_count": 34,
   "metadata": {},
   "outputs": [
    {
     "name": "stdout",
     "output_type": "stream",
     "text": [
      "<re.Match object; span=(3, 5), match='A0'>\n"
     ]
    }
   ],
   "source": [
    "pat='[0-9a-fA-F][0-9a-fA-F]' #ricerco 2 caratteri esadecimali\n",
    "print(re.search(pat, '___A0___'))"
   ]
  },
  {
   "cell_type": "code",
   "execution_count": 36,
   "metadata": {},
   "outputs": [
    {
     "name": "stdout",
     "output_type": "stream",
     "text": [
      "None\n",
      "<re.Match object; span=(0, 2), match='BB'>\n"
     ]
    }
   ],
   "source": [
    "pat='[^0-9][^0-9]' #ricerco 2 caratteri di fila non numerici (^ è la negazione)\n",
    "print(re.search(pat, 'A0'))\n",
    "print(re.search(pat, 'BB'))"
   ]
  },
  {
   "cell_type": "code",
   "execution_count": null,
   "metadata": {},
   "outputs": [
    {
     "name": "stdout",
     "output_type": "stream",
     "text": [
      "<re.Match object; span=(3, 6), match='-07'>\n",
      "None\n"
     ]
    }
   ],
   "source": [
    "pat='[-0-9][0-9][0-9]' #sul primo [] c'è il trattino e numerico da cercare\n",
    "print(re.search(pat, 'lun-07.12'))\n",
    "print(re.search(pat, 'BB'))"
   ]
  },
  {
   "cell_type": "code",
   "execution_count": 38,
   "metadata": {},
   "outputs": [
    {
     "name": "stdout",
     "output_type": "stream",
     "text": [
      "<re.Match object; span=(0, 3), match='foo'>\n",
      "None\n"
     ]
    }
   ],
   "source": [
    "pat='^foo' #ora i simbolo ^ significa che foo è vincolato all'inizio\n",
    "print(re.search(pat, 'foobar'))\n",
    "print(re.search(pat, 'afoobar'))"
   ]
  },
  {
   "cell_type": "code",
   "execution_count": 40,
   "metadata": {},
   "outputs": [
    {
     "name": "stdout",
     "output_type": "stream",
     "text": [
      "<re.Match object; span=(3, 6), match='bar'>\n",
      "None\n"
     ]
    }
   ],
   "source": [
    "pat='bar$' #ora con il simbolo $ vincolo la ricerca alla fine\n",
    "print(re.search(pat, 'foobar'))\n",
    "print(re.search(pat, 'afoobarx'))"
   ]
  },
  {
   "cell_type": "code",
   "execution_count": 43,
   "metadata": {},
   "outputs": [
    {
     "name": "stdout",
     "output_type": "stream",
     "text": [
      "<re.Match object; span=(0, 2), match='ba'>\n",
      "<re.Match object; span=(0, 5), match='baaaa'>\n",
      "<re.Match object; span=(0, 1), match='b'>\n"
     ]
    }
   ],
   "source": [
    "pat='ba*' # '*' significa 0 o più 'a'\n",
    "print(re.search(pat, 'bar'))\n",
    "print(re.search(pat, 'baaaar'))\n",
    "print(re.search(pat, 'br'))"
   ]
  },
  {
   "cell_type": "code",
   "execution_count": null,
   "metadata": {},
   "outputs": [
    {
     "name": "stdout",
     "output_type": "stream",
     "text": [
      "<re.Match object; span=(0, 6), match='foobar'>\n",
      "<re.Match object; span=(0, 11), match='foohellobar'>\n"
     ]
    }
   ],
   "source": [
    "pat='foo.*bar' # combino '.' e '*' : 0 o più di qualsiasi carattere\n",
    "print(re.search(pat, 'foobar'))\n",
    "print(re.search(pat, 'foohellobar'))"
   ]
  },
  {
   "cell_type": "code",
   "execution_count": 46,
   "metadata": {},
   "outputs": [
    {
     "name": "stdout",
     "output_type": "stream",
     "text": [
      "None\n",
      "<re.Match object; span=(0, 11), match='foohellobar'>\n"
     ]
    }
   ],
   "source": [
    "pat='foo.+bar' # combino '.' e '+' : almeno un carattere\n",
    "print(re.search(pat, 'foobar'))\n",
    "print(re.search(pat, 'foohellobar'))"
   ]
  },
  {
   "cell_type": "code",
   "execution_count": null,
   "metadata": {},
   "outputs": [
    {
     "name": "stdout",
     "output_type": "stream",
     "text": [
      "<re.Match object; span=(0, 6), match='foobar'>\n",
      "<re.Match object; span=(0, 7), match='fooxbar'>\n",
      "None\n"
     ]
    }
   ],
   "source": [
    "pat='foox?bar' # x?: nessuna o al massimo 1 x\n",
    "print(re.search(pat, 'foobar'))\n",
    "print(re.search(pat, 'fooxbar'))\n",
    "print(re.search(pat, 'fooxxbar'))"
   ]
  }
 ],
 "metadata": {
  "kernelspec": {
   "display_name": "Python 3",
   "language": "python",
   "name": "python3"
  },
  "language_info": {
   "codemirror_mode": {
    "name": "ipython",
    "version": 3
   },
   "file_extension": ".py",
   "mimetype": "text/x-python",
   "name": "python",
   "nbconvert_exporter": "python",
   "pygments_lexer": "ipython3",
   "version": "3.12.1"
  }
 },
 "nbformat": 4,
 "nbformat_minor": 2
}
